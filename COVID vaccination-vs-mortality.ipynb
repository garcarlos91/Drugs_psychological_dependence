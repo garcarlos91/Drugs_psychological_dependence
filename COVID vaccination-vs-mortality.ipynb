{
 "cells": [
  {
   "cell_type": "code",
   "execution_count": 51,
   "id": "1f128ab6-c775-4d0a-ada5-022ed0e93470",
   "metadata": {},
   "outputs": [],
   "source": [
    "import pandas as pd\n",
    "import numpy as np\n",
    "import matplotlib.pyplot as plt\n",
    "import seaborn as sns\n",
    "from fitter import Fitter, get_common_distributions"
   ]
  },
  {
   "cell_type": "code",
   "execution_count": 2,
   "id": "b55c799e-ebb3-4396-bbed-383493e579e0",
   "metadata": {},
   "outputs": [
    {
     "data": {
      "text/html": [
       "<div>\n",
       "<style scoped>\n",
       "    .dataframe tbody tr th:only-of-type {\n",
       "        vertical-align: middle;\n",
       "    }\n",
       "\n",
       "    .dataframe tbody tr th {\n",
       "        vertical-align: top;\n",
       "    }\n",
       "\n",
       "    .dataframe thead th {\n",
       "        text-align: right;\n",
       "    }\n",
       "</style>\n",
       "<table border=\"1\" class=\"dataframe\">\n",
       "  <thead>\n",
       "    <tr style=\"text-align: right;\">\n",
       "      <th></th>\n",
       "      <th>country</th>\n",
       "      <th>iso_code</th>\n",
       "      <th>date</th>\n",
       "      <th>total_vaccinations</th>\n",
       "      <th>people_vaccinated</th>\n",
       "      <th>people_fully_vaccinated</th>\n",
       "      <th>New_deaths</th>\n",
       "      <th>population</th>\n",
       "      <th>ratio</th>\n",
       "    </tr>\n",
       "  </thead>\n",
       "  <tbody>\n",
       "    <tr>\n",
       "      <th>0</th>\n",
       "      <td>Afghanistan</td>\n",
       "      <td>AFG</td>\n",
       "      <td>2021-05-11</td>\n",
       "      <td>504502.0</td>\n",
       "      <td>448878.0</td>\n",
       "      <td>55624.0</td>\n",
       "      <td>12</td>\n",
       "      <td>40374668.0</td>\n",
       "      <td>1.111781</td>\n",
       "    </tr>\n",
       "    <tr>\n",
       "      <th>1</th>\n",
       "      <td>Afghanistan</td>\n",
       "      <td>AFG</td>\n",
       "      <td>2021-05-20</td>\n",
       "      <td>547901.0</td>\n",
       "      <td>470341.0</td>\n",
       "      <td>77560.0</td>\n",
       "      <td>10</td>\n",
       "      <td>40374668.0</td>\n",
       "      <td>1.164941</td>\n",
       "    </tr>\n",
       "    <tr>\n",
       "      <th>2</th>\n",
       "      <td>Afghanistan</td>\n",
       "      <td>AFG</td>\n",
       "      <td>2021-05-24</td>\n",
       "      <td>573277.0</td>\n",
       "      <td>476367.0</td>\n",
       "      <td>96910.0</td>\n",
       "      <td>10</td>\n",
       "      <td>40374668.0</td>\n",
       "      <td>1.179866</td>\n",
       "    </tr>\n",
       "    <tr>\n",
       "      <th>3</th>\n",
       "      <td>Afghanistan</td>\n",
       "      <td>AFG</td>\n",
       "      <td>2021-05-26</td>\n",
       "      <td>590454.0</td>\n",
       "      <td>479372.0</td>\n",
       "      <td>111082.0</td>\n",
       "      <td>19</td>\n",
       "      <td>40374668.0</td>\n",
       "      <td>1.187309</td>\n",
       "    </tr>\n",
       "    <tr>\n",
       "      <th>4</th>\n",
       "      <td>Afghanistan</td>\n",
       "      <td>AFG</td>\n",
       "      <td>2021-05-27</td>\n",
       "      <td>593313.0</td>\n",
       "      <td>479574.0</td>\n",
       "      <td>113739.0</td>\n",
       "      <td>14</td>\n",
       "      <td>40374668.0</td>\n",
       "      <td>1.187809</td>\n",
       "    </tr>\n",
       "  </tbody>\n",
       "</table>\n",
       "</div>"
      ],
      "text/plain": [
       "       country iso_code        date  total_vaccinations  people_vaccinated  \\\n",
       "0  Afghanistan      AFG  2021-05-11            504502.0           448878.0   \n",
       "1  Afghanistan      AFG  2021-05-20            547901.0           470341.0   \n",
       "2  Afghanistan      AFG  2021-05-24            573277.0           476367.0   \n",
       "3  Afghanistan      AFG  2021-05-26            590454.0           479372.0   \n",
       "4  Afghanistan      AFG  2021-05-27            593313.0           479574.0   \n",
       "\n",
       "   people_fully_vaccinated  New_deaths  population     ratio  \n",
       "0                  55624.0          12  40374668.0  1.111781  \n",
       "1                  77560.0          10  40374668.0  1.164941  \n",
       "2                  96910.0          10  40374668.0  1.179866  \n",
       "3                 111082.0          19  40374668.0  1.187309  \n",
       "4                 113739.0          14  40374668.0  1.187809  "
      ]
     },
     "execution_count": 2,
     "metadata": {},
     "output_type": "execute_result"
    }
   ],
   "source": [
    "O_df = pd.read_csv('covid-vaccination-vs-death_ratio.csv', index_col = 'Unnamed: 0')\n",
    "O_df.head()"
   ]
  },
  {
   "cell_type": "code",
   "execution_count": 3,
   "id": "dc714701-6cb3-41ef-b984-b940efa89404",
   "metadata": {},
   "outputs": [],
   "source": [
    "df = O_df.copy()"
   ]
  },
  {
   "cell_type": "code",
   "execution_count": 4,
   "id": "4df5858a-29c7-48b2-a15a-c2860ee68cb2",
   "metadata": {},
   "outputs": [
    {
     "name": "stdout",
     "output_type": "stream",
     "text": [
      "<class 'pandas.core.frame.DataFrame'>\n",
      "Int64Index: 32911 entries, 0 to 32910\n",
      "Data columns (total 9 columns):\n",
      " #   Column                   Non-Null Count  Dtype  \n",
      "---  ------                   --------------  -----  \n",
      " 0   country                  32911 non-null  object \n",
      " 1   iso_code                 32911 non-null  object \n",
      " 2   date                     32911 non-null  object \n",
      " 3   total_vaccinations       32911 non-null  float64\n",
      " 4   people_vaccinated        32911 non-null  float64\n",
      " 5   people_fully_vaccinated  32911 non-null  float64\n",
      " 6   New_deaths               32911 non-null  int64  \n",
      " 7   population               32911 non-null  float64\n",
      " 8   ratio                    32911 non-null  float64\n",
      "dtypes: float64(5), int64(1), object(3)\n",
      "memory usage: 2.5+ MB\n"
     ]
    }
   ],
   "source": [
    "df.info()"
   ]
  },
  {
   "cell_type": "code",
   "execution_count": 5,
   "id": "697fc283-c6bf-4f78-a945-c9fe2a43f991",
   "metadata": {},
   "outputs": [
    {
     "data": {
      "text/html": [
       "<div>\n",
       "<style scoped>\n",
       "    .dataframe tbody tr th:only-of-type {\n",
       "        vertical-align: middle;\n",
       "    }\n",
       "\n",
       "    .dataframe tbody tr th {\n",
       "        vertical-align: top;\n",
       "    }\n",
       "\n",
       "    .dataframe thead th {\n",
       "        text-align: right;\n",
       "    }\n",
       "</style>\n",
       "<table border=\"1\" class=\"dataframe\">\n",
       "  <thead>\n",
       "    <tr style=\"text-align: right;\">\n",
       "      <th></th>\n",
       "      <th>country</th>\n",
       "      <th>iso_code</th>\n",
       "      <th>date</th>\n",
       "    </tr>\n",
       "  </thead>\n",
       "  <tbody>\n",
       "    <tr>\n",
       "      <th>count</th>\n",
       "      <td>32911</td>\n",
       "      <td>32911</td>\n",
       "      <td>32911</td>\n",
       "    </tr>\n",
       "    <tr>\n",
       "      <th>unique</th>\n",
       "      <td>197</td>\n",
       "      <td>197</td>\n",
       "      <td>472</td>\n",
       "    </tr>\n",
       "    <tr>\n",
       "      <th>top</th>\n",
       "      <td>United States of America</td>\n",
       "      <td>USA</td>\n",
       "      <td>2021-08-09</td>\n",
       "    </tr>\n",
       "    <tr>\n",
       "      <th>freq</th>\n",
       "      <td>471</td>\n",
       "      <td>471</td>\n",
       "      <td>110</td>\n",
       "    </tr>\n",
       "  </tbody>\n",
       "</table>\n",
       "</div>"
      ],
      "text/plain": [
       "                         country iso_code        date\n",
       "count                      32911    32911       32911\n",
       "unique                       197      197         472\n",
       "top     United States of America      USA  2021-08-09\n",
       "freq                         471      471         110"
      ]
     },
     "execution_count": 5,
     "metadata": {},
     "output_type": "execute_result"
    }
   ],
   "source": [
    "df.describe(include = 'object')"
   ]
  },
  {
   "cell_type": "code",
   "execution_count": 6,
   "id": "b424047b-26fa-4ab8-a400-9ec91246ffa9",
   "metadata": {},
   "outputs": [
    {
     "data": {
      "text/html": [
       "<div>\n",
       "<style scoped>\n",
       "    .dataframe tbody tr th:only-of-type {\n",
       "        vertical-align: middle;\n",
       "    }\n",
       "\n",
       "    .dataframe tbody tr th {\n",
       "        vertical-align: top;\n",
       "    }\n",
       "\n",
       "    .dataframe thead th {\n",
       "        text-align: right;\n",
       "    }\n",
       "</style>\n",
       "<table border=\"1\" class=\"dataframe\">\n",
       "  <thead>\n",
       "    <tr style=\"text-align: right;\">\n",
       "      <th></th>\n",
       "      <th>total_vaccinations</th>\n",
       "      <th>people_vaccinated</th>\n",
       "      <th>people_fully_vaccinated</th>\n",
       "      <th>New_deaths</th>\n",
       "      <th>population</th>\n",
       "      <th>ratio</th>\n",
       "    </tr>\n",
       "  </thead>\n",
       "  <tbody>\n",
       "    <tr>\n",
       "      <th>count</th>\n",
       "      <td>3.291100e+04</td>\n",
       "      <td>3.291100e+04</td>\n",
       "      <td>3.291100e+04</td>\n",
       "      <td>32911.000000</td>\n",
       "      <td>3.291100e+04</td>\n",
       "      <td>32911.000000</td>\n",
       "    </tr>\n",
       "    <tr>\n",
       "      <th>mean</th>\n",
       "      <td>3.689489e+07</td>\n",
       "      <td>2.035846e+07</td>\n",
       "      <td>1.471013e+07</td>\n",
       "      <td>100.043116</td>\n",
       "      <td>5.164060e+07</td>\n",
       "      <td>41.971287</td>\n",
       "    </tr>\n",
       "    <tr>\n",
       "      <th>std</th>\n",
       "      <td>1.411509e+08</td>\n",
       "      <td>7.843235e+07</td>\n",
       "      <td>5.735093e+07</td>\n",
       "      <td>339.500099</td>\n",
       "      <td>1.645294e+08</td>\n",
       "      <td>28.970518</td>\n",
       "    </tr>\n",
       "    <tr>\n",
       "      <th>min</th>\n",
       "      <td>1.000000e+00</td>\n",
       "      <td>1.000000e+00</td>\n",
       "      <td>1.000000e+00</td>\n",
       "      <td>-2440.000000</td>\n",
       "      <td>1.373000e+03</td>\n",
       "      <td>0.000011</td>\n",
       "    </tr>\n",
       "    <tr>\n",
       "      <th>25%</th>\n",
       "      <td>7.289180e+05</td>\n",
       "      <td>4.571090e+05</td>\n",
       "      <td>2.313500e+05</td>\n",
       "      <td>1.000000</td>\n",
       "      <td>2.962425e+06</td>\n",
       "      <td>13.697569</td>\n",
       "    </tr>\n",
       "    <tr>\n",
       "      <th>50%</th>\n",
       "      <td>4.552479e+06</td>\n",
       "      <td>2.724528e+06</td>\n",
       "      <td>1.693674e+06</td>\n",
       "      <td>9.000000</td>\n",
       "      <td>1.034057e+07</td>\n",
       "      <td>41.530473</td>\n",
       "    </tr>\n",
       "    <tr>\n",
       "      <th>75%</th>\n",
       "      <td>2.065201e+07</td>\n",
       "      <td>1.158203e+07</td>\n",
       "      <td>7.907290e+06</td>\n",
       "      <td>49.000000</td>\n",
       "      <td>3.826123e+07</td>\n",
       "      <td>68.147335</td>\n",
       "    </tr>\n",
       "    <tr>\n",
       "      <th>max</th>\n",
       "      <td>3.243599e+09</td>\n",
       "      <td>1.275541e+09</td>\n",
       "      <td>1.240777e+09</td>\n",
       "      <td>11447.000000</td>\n",
       "      <td>1.447065e+09</td>\n",
       "      <td>124.737373</td>\n",
       "    </tr>\n",
       "  </tbody>\n",
       "</table>\n",
       "</div>"
      ],
      "text/plain": [
       "       total_vaccinations  people_vaccinated  people_fully_vaccinated  \\\n",
       "count        3.291100e+04       3.291100e+04             3.291100e+04   \n",
       "mean         3.689489e+07       2.035846e+07             1.471013e+07   \n",
       "std          1.411509e+08       7.843235e+07             5.735093e+07   \n",
       "min          1.000000e+00       1.000000e+00             1.000000e+00   \n",
       "25%          7.289180e+05       4.571090e+05             2.313500e+05   \n",
       "50%          4.552479e+06       2.724528e+06             1.693674e+06   \n",
       "75%          2.065201e+07       1.158203e+07             7.907290e+06   \n",
       "max          3.243599e+09       1.275541e+09             1.240777e+09   \n",
       "\n",
       "         New_deaths    population         ratio  \n",
       "count  32911.000000  3.291100e+04  32911.000000  \n",
       "mean     100.043116  5.164060e+07     41.971287  \n",
       "std      339.500099  1.645294e+08     28.970518  \n",
       "min    -2440.000000  1.373000e+03      0.000011  \n",
       "25%        1.000000  2.962425e+06     13.697569  \n",
       "50%        9.000000  1.034057e+07     41.530473  \n",
       "75%       49.000000  3.826123e+07     68.147335  \n",
       "max    11447.000000  1.447065e+09    124.737373  "
      ]
     },
     "execution_count": 6,
     "metadata": {},
     "output_type": "execute_result"
    }
   ],
   "source": [
    "df.describe()"
   ]
  },
  {
   "cell_type": "code",
   "execution_count": 7,
   "id": "a5fd44e1-ed24-41ce-8fe9-a210bc0bb494",
   "metadata": {},
   "outputs": [
    {
     "data": {
      "text/plain": [
       "197"
      ]
     },
     "execution_count": 7,
     "metadata": {},
     "output_type": "execute_result"
    }
   ],
   "source": [
    "len(df.country.unique())"
   ]
  },
  {
   "cell_type": "code",
   "execution_count": 8,
   "id": "d41c40b8-7f39-4837-a812-fbbaf7b2f860",
   "metadata": {},
   "outputs": [],
   "source": [
    "df['date'] = pd.to_datetime(df.date,format = '%Y-%m-%d')\n",
    "df['date'] = [date.strftime('%YW%W',) for date in df.date]\n",
    "df = df.groupby(by = ['country', 'iso_code', 'date']).max().reset_index()"
   ]
  },
  {
   "cell_type": "code",
   "execution_count": 9,
   "id": "b0e37506-4ad5-448c-ac69-4e596b2da7f9",
   "metadata": {},
   "outputs": [
    {
     "data": {
      "text/plain": [
       "197"
      ]
     },
     "execution_count": 9,
     "metadata": {},
     "output_type": "execute_result"
    }
   ],
   "source": [
    "len(df.country.unique())"
   ]
  },
  {
   "cell_type": "code",
   "execution_count": 10,
   "id": "f70d4b0a-5f25-4d08-b137-810772d97a06",
   "metadata": {},
   "outputs": [
    {
     "data": {
      "text/html": [
       "<div>\n",
       "<style scoped>\n",
       "    .dataframe tbody tr th:only-of-type {\n",
       "        vertical-align: middle;\n",
       "    }\n",
       "\n",
       "    .dataframe tbody tr th {\n",
       "        vertical-align: top;\n",
       "    }\n",
       "\n",
       "    .dataframe thead th {\n",
       "        text-align: right;\n",
       "    }\n",
       "</style>\n",
       "<table border=\"1\" class=\"dataframe\">\n",
       "  <thead>\n",
       "    <tr style=\"text-align: right;\">\n",
       "      <th></th>\n",
       "      <th>country</th>\n",
       "      <th>iso_code</th>\n",
       "      <th>date</th>\n",
       "      <th>total_vaccinations</th>\n",
       "      <th>people_vaccinated</th>\n",
       "      <th>people_fully_vaccinated</th>\n",
       "      <th>New_deaths</th>\n",
       "      <th>population</th>\n",
       "      <th>ratio</th>\n",
       "    </tr>\n",
       "  </thead>\n",
       "  <tbody>\n",
       "    <tr>\n",
       "      <th>0</th>\n",
       "      <td>Afghanistan</td>\n",
       "      <td>AFG</td>\n",
       "      <td>2021W19</td>\n",
       "      <td>504502.0</td>\n",
       "      <td>448878.0</td>\n",
       "      <td>55624.0</td>\n",
       "      <td>12</td>\n",
       "      <td>40374668.0</td>\n",
       "      <td>1.111781</td>\n",
       "    </tr>\n",
       "    <tr>\n",
       "      <th>1</th>\n",
       "      <td>Afghanistan</td>\n",
       "      <td>AFG</td>\n",
       "      <td>2021W20</td>\n",
       "      <td>547901.0</td>\n",
       "      <td>470341.0</td>\n",
       "      <td>77560.0</td>\n",
       "      <td>10</td>\n",
       "      <td>40374668.0</td>\n",
       "      <td>1.164941</td>\n",
       "    </tr>\n",
       "    <tr>\n",
       "      <th>2</th>\n",
       "      <td>Afghanistan</td>\n",
       "      <td>AFG</td>\n",
       "      <td>2021W21</td>\n",
       "      <td>600152.0</td>\n",
       "      <td>480226.0</td>\n",
       "      <td>119926.0</td>\n",
       "      <td>20</td>\n",
       "      <td>40374668.0</td>\n",
       "      <td>1.189424</td>\n",
       "    </tr>\n",
       "    <tr>\n",
       "      <th>3</th>\n",
       "      <td>Afghanistan</td>\n",
       "      <td>AFG</td>\n",
       "      <td>2021W22</td>\n",
       "      <td>630305.0</td>\n",
       "      <td>481800.0</td>\n",
       "      <td>148505.0</td>\n",
       "      <td>34</td>\n",
       "      <td>40374668.0</td>\n",
       "      <td>1.193323</td>\n",
       "    </tr>\n",
       "    <tr>\n",
       "      <th>4</th>\n",
       "      <td>Afghanistan</td>\n",
       "      <td>AFG</td>\n",
       "      <td>2021W23</td>\n",
       "      <td>641295.0</td>\n",
       "      <td>482952.0</td>\n",
       "      <td>158343.0</td>\n",
       "      <td>64</td>\n",
       "      <td>40374668.0</td>\n",
       "      <td>1.196176</td>\n",
       "    </tr>\n",
       "    <tr>\n",
       "      <th>...</th>\n",
       "      <td>...</td>\n",
       "      <td>...</td>\n",
       "      <td>...</td>\n",
       "      <td>...</td>\n",
       "      <td>...</td>\n",
       "      <td>...</td>\n",
       "      <td>...</td>\n",
       "      <td>...</td>\n",
       "      <td>...</td>\n",
       "    </tr>\n",
       "    <tr>\n",
       "      <th>7994</th>\n",
       "      <td>occupied Palestinian territory, including east...</td>\n",
       "      <td>PSE</td>\n",
       "      <td>2021W46</td>\n",
       "      <td>2974583.0</td>\n",
       "      <td>1886212.0</td>\n",
       "      <td>1339710.0</td>\n",
       "      <td>3</td>\n",
       "      <td>5293440.0</td>\n",
       "      <td>35.633010</td>\n",
       "    </tr>\n",
       "    <tr>\n",
       "      <th>7995</th>\n",
       "      <td>occupied Palestinian territory, including east...</td>\n",
       "      <td>PSE</td>\n",
       "      <td>2021W47</td>\n",
       "      <td>3024477.0</td>\n",
       "      <td>1910794.0</td>\n",
       "      <td>1365858.0</td>\n",
       "      <td>5</td>\n",
       "      <td>5293440.0</td>\n",
       "      <td>36.097396</td>\n",
       "    </tr>\n",
       "    <tr>\n",
       "      <th>7996</th>\n",
       "      <td>occupied Palestinian territory, including east...</td>\n",
       "      <td>PSE</td>\n",
       "      <td>2022W09</td>\n",
       "      <td>3609984.0</td>\n",
       "      <td>1979151.0</td>\n",
       "      <td>1716216.0</td>\n",
       "      <td>7</td>\n",
       "      <td>5293440.0</td>\n",
       "      <td>37.388749</td>\n",
       "    </tr>\n",
       "    <tr>\n",
       "      <th>7997</th>\n",
       "      <td>occupied Palestinian territory, including east...</td>\n",
       "      <td>PSE</td>\n",
       "      <td>2022W11</td>\n",
       "      <td>3677892.0</td>\n",
       "      <td>1991893.0</td>\n",
       "      <td>1747035.0</td>\n",
       "      <td>6</td>\n",
       "      <td>5293440.0</td>\n",
       "      <td>37.629462</td>\n",
       "    </tr>\n",
       "    <tr>\n",
       "      <th>7998</th>\n",
       "      <td>occupied Palestinian territory, including east...</td>\n",
       "      <td>PSE</td>\n",
       "      <td>2022W12</td>\n",
       "      <td>3694897.0</td>\n",
       "      <td>1995873.0</td>\n",
       "      <td>1756319.0</td>\n",
       "      <td>8</td>\n",
       "      <td>5293440.0</td>\n",
       "      <td>37.704650</td>\n",
       "    </tr>\n",
       "  </tbody>\n",
       "</table>\n",
       "<p>7999 rows × 9 columns</p>\n",
       "</div>"
      ],
      "text/plain": [
       "                                                country iso_code     date  \\\n",
       "0                                           Afghanistan      AFG  2021W19   \n",
       "1                                           Afghanistan      AFG  2021W20   \n",
       "2                                           Afghanistan      AFG  2021W21   \n",
       "3                                           Afghanistan      AFG  2021W22   \n",
       "4                                           Afghanistan      AFG  2021W23   \n",
       "...                                                 ...      ...      ...   \n",
       "7994  occupied Palestinian territory, including east...      PSE  2021W46   \n",
       "7995  occupied Palestinian territory, including east...      PSE  2021W47   \n",
       "7996  occupied Palestinian territory, including east...      PSE  2022W09   \n",
       "7997  occupied Palestinian territory, including east...      PSE  2022W11   \n",
       "7998  occupied Palestinian territory, including east...      PSE  2022W12   \n",
       "\n",
       "      total_vaccinations  people_vaccinated  people_fully_vaccinated  \\\n",
       "0               504502.0           448878.0                  55624.0   \n",
       "1               547901.0           470341.0                  77560.0   \n",
       "2               600152.0           480226.0                 119926.0   \n",
       "3               630305.0           481800.0                 148505.0   \n",
       "4               641295.0           482952.0                 158343.0   \n",
       "...                  ...                ...                      ...   \n",
       "7994           2974583.0          1886212.0                1339710.0   \n",
       "7995           3024477.0          1910794.0                1365858.0   \n",
       "7996           3609984.0          1979151.0                1716216.0   \n",
       "7997           3677892.0          1991893.0                1747035.0   \n",
       "7998           3694897.0          1995873.0                1756319.0   \n",
       "\n",
       "      New_deaths  population      ratio  \n",
       "0             12  40374668.0   1.111781  \n",
       "1             10  40374668.0   1.164941  \n",
       "2             20  40374668.0   1.189424  \n",
       "3             34  40374668.0   1.193323  \n",
       "4             64  40374668.0   1.196176  \n",
       "...          ...         ...        ...  \n",
       "7994           3   5293440.0  35.633010  \n",
       "7995           5   5293440.0  36.097396  \n",
       "7996           7   5293440.0  37.388749  \n",
       "7997           6   5293440.0  37.629462  \n",
       "7998           8   5293440.0  37.704650  \n",
       "\n",
       "[7999 rows x 9 columns]"
      ]
     },
     "execution_count": 10,
     "metadata": {},
     "output_type": "execute_result"
    }
   ],
   "source": [
    "df"
   ]
  },
  {
   "cell_type": "code",
   "execution_count": 11,
   "id": "d0342bcb-f064-4f01-867d-c8b5bde8e560",
   "metadata": {},
   "outputs": [
    {
     "name": "stdout",
     "output_type": "stream",
     "text": [
      "<class 'pandas.core.frame.DataFrame'>\n",
      "RangeIndex: 7999 entries, 0 to 7998\n",
      "Data columns (total 9 columns):\n",
      " #   Column                   Non-Null Count  Dtype  \n",
      "---  ------                   --------------  -----  \n",
      " 0   country                  7999 non-null   object \n",
      " 1   iso_code                 7999 non-null   object \n",
      " 2   date                     7999 non-null   object \n",
      " 3   total_vaccinations       7999 non-null   float64\n",
      " 4   people_vaccinated        7999 non-null   float64\n",
      " 5   people_fully_vaccinated  7999 non-null   float64\n",
      " 6   New_deaths               7999 non-null   int64  \n",
      " 7   population               7999 non-null   float64\n",
      " 8   ratio                    7999 non-null   float64\n",
      "dtypes: float64(5), int64(1), object(3)\n",
      "memory usage: 562.6+ KB\n"
     ]
    }
   ],
   "source": [
    "df.info()"
   ]
  },
  {
   "cell_type": "code",
   "execution_count": 12,
   "id": "be6fd7e0-beec-4487-b020-8b81a923fc55",
   "metadata": {},
   "outputs": [],
   "source": [
    "# Al haber agrupado cogiendo el máximo valor, el número de nuevas muertes no era el correcto.\n",
    "# Por lo tanto, creo una lista para sustituir ese valor, por el correcto.\n",
    "\n",
    "# Copio el dataset original, y agrupo el dataset sumando la columna de nuevas muertes.\n",
    "\n",
    "from datetime import datetime\n",
    "\n",
    "deaths_df = O_df.copy()\n",
    "deaths_df['date'] = pd.to_datetime(deaths_df.date,format = '%Y-%m-%d')\n",
    "deaths_df['date'] = [date.strftime('%YW%W') for date in deaths_df.date]\n",
    "deaths_df = deaths_df.groupby(by = ['country', 'iso_code', 'date'])['New_deaths'].sum().reset_index()\n",
    "deaths_list = deaths_df['New_deaths']\n",
    "df['New_deaths'] = deaths_list"
   ]
  },
  {
   "cell_type": "code",
   "execution_count": 13,
   "id": "8ff7af58-8774-4741-a0d8-467c8fd784a3",
   "metadata": {},
   "outputs": [
    {
     "name": "stdout",
     "output_type": "stream",
     "text": [
      "<class 'pandas.core.frame.DataFrame'>\n",
      "RangeIndex: 7999 entries, 0 to 7998\n",
      "Data columns (total 9 columns):\n",
      " #   Column                   Non-Null Count  Dtype  \n",
      "---  ------                   --------------  -----  \n",
      " 0   country                  7999 non-null   object \n",
      " 1   iso_code                 7999 non-null   object \n",
      " 2   date                     7999 non-null   object \n",
      " 3   total_vaccinations       7999 non-null   float64\n",
      " 4   people_vaccinated        7999 non-null   float64\n",
      " 5   people_fully_vaccinated  7999 non-null   float64\n",
      " 6   New_deaths               7999 non-null   int64  \n",
      " 7   population               7999 non-null   float64\n",
      " 8   ratio                    7999 non-null   float64\n",
      "dtypes: float64(5), int64(1), object(3)\n",
      "memory usage: 562.6+ KB\n"
     ]
    }
   ],
   "source": [
    "df.info()"
   ]
  },
  {
   "cell_type": "code",
   "execution_count": 14,
   "id": "5236327c-2734-4a1e-b3ee-54aa4d428e21",
   "metadata": {},
   "outputs": [],
   "source": [
    "#Creo una nueva columna que tenga el número de muertes acumuladas\n",
    "\n",
    "df['Death_Cum'] = df.groupby(['country', 'iso_code'])['New_deaths'].cumsum()"
   ]
  },
  {
   "cell_type": "code",
   "execution_count": 15,
   "id": "658caf59-d2fc-41a3-94ea-52f04f5be5d2",
   "metadata": {},
   "outputs": [
    {
     "name": "stdout",
     "output_type": "stream",
     "text": [
      "<class 'pandas.core.frame.DataFrame'>\n",
      "RangeIndex: 7999 entries, 0 to 7998\n",
      "Data columns (total 10 columns):\n",
      " #   Column                   Non-Null Count  Dtype  \n",
      "---  ------                   --------------  -----  \n",
      " 0   country                  7999 non-null   object \n",
      " 1   iso_code                 7999 non-null   object \n",
      " 2   date                     7999 non-null   object \n",
      " 3   total_vaccinations       7999 non-null   float64\n",
      " 4   people_vaccinated        7999 non-null   float64\n",
      " 5   people_fully_vaccinated  7999 non-null   float64\n",
      " 6   New_deaths               7999 non-null   int64  \n",
      " 7   population               7999 non-null   float64\n",
      " 8   ratio                    7999 non-null   float64\n",
      " 9   Death_Cum                7999 non-null   int64  \n",
      "dtypes: float64(5), int64(2), object(3)\n",
      "memory usage: 625.0+ KB\n"
     ]
    }
   ],
   "source": [
    "df.info()"
   ]
  },
  {
   "cell_type": "code",
   "execution_count": 16,
   "id": "f4787f2f-1eea-469e-9983-3aece3e5886d",
   "metadata": {},
   "outputs": [
    {
     "data": {
      "text/plain": [
       "197"
      ]
     },
     "execution_count": 16,
     "metadata": {},
     "output_type": "execute_result"
    }
   ],
   "source": [
    "len(df.country.unique())"
   ]
  },
  {
   "cell_type": "markdown",
   "id": "efb5e409-36f5-4d16-af07-c63eba758966",
   "metadata": {},
   "source": [
    "## Análisis"
   ]
  },
  {
   "cell_type": "code",
   "execution_count": 17,
   "id": "b1a34d69-1986-4dea-8a45-513d728d68f5",
   "metadata": {},
   "outputs": [
    {
     "name": "stdout",
     "output_type": "stream",
     "text": [
      "(62, 10)\n"
     ]
    },
    {
     "data": {
      "text/html": [
       "<div>\n",
       "<style scoped>\n",
       "    .dataframe tbody tr th:only-of-type {\n",
       "        vertical-align: middle;\n",
       "    }\n",
       "\n",
       "    .dataframe tbody tr th {\n",
       "        vertical-align: top;\n",
       "    }\n",
       "\n",
       "    .dataframe thead th {\n",
       "        text-align: right;\n",
       "    }\n",
       "</style>\n",
       "<table border=\"1\" class=\"dataframe\">\n",
       "  <thead>\n",
       "    <tr style=\"text-align: right;\">\n",
       "      <th></th>\n",
       "      <th>country</th>\n",
       "      <th>iso_code</th>\n",
       "      <th>date</th>\n",
       "      <th>total_vaccinations</th>\n",
       "      <th>people_vaccinated</th>\n",
       "      <th>people_fully_vaccinated</th>\n",
       "      <th>New_deaths</th>\n",
       "      <th>population</th>\n",
       "      <th>ratio</th>\n",
       "      <th>Death_Cum</th>\n",
       "    </tr>\n",
       "  </thead>\n",
       "  <tbody>\n",
       "    <tr>\n",
       "      <th>6885</th>\n",
       "      <td>Spain</td>\n",
       "      <td>ESP</td>\n",
       "      <td>2021W03</td>\n",
       "      <td>1237593.0</td>\n",
       "      <td>1148895.0</td>\n",
       "      <td>88698.0</td>\n",
       "      <td>2668</td>\n",
       "      <td>46736811.0</td>\n",
       "      <td>2.458223</td>\n",
       "      <td>2668</td>\n",
       "    </tr>\n",
       "    <tr>\n",
       "      <th>6886</th>\n",
       "      <td>Spain</td>\n",
       "      <td>ESP</td>\n",
       "      <td>2021W04</td>\n",
       "      <td>1609261.0</td>\n",
       "      <td>1251369.0</td>\n",
       "      <td>357892.0</td>\n",
       "      <td>2606</td>\n",
       "      <td>46736811.0</td>\n",
       "      <td>2.677480</td>\n",
       "      <td>5274</td>\n",
       "    </tr>\n",
       "    <tr>\n",
       "      <th>6887</th>\n",
       "      <td>Spain</td>\n",
       "      <td>ESP</td>\n",
       "      <td>2021W05</td>\n",
       "      <td>2105033.0</td>\n",
       "      <td>1318626.0</td>\n",
       "      <td>786407.0</td>\n",
       "      <td>2525</td>\n",
       "      <td>46736811.0</td>\n",
       "      <td>2.821386</td>\n",
       "      <td>7799</td>\n",
       "    </tr>\n",
       "    <tr>\n",
       "      <th>6888</th>\n",
       "      <td>Spain</td>\n",
       "      <td>ESP</td>\n",
       "      <td>2021W06</td>\n",
       "      <td>2561608.0</td>\n",
       "      <td>1491517.0</td>\n",
       "      <td>1070091.0</td>\n",
       "      <td>1961</td>\n",
       "      <td>46736811.0</td>\n",
       "      <td>3.191311</td>\n",
       "      <td>9760</td>\n",
       "    </tr>\n",
       "    <tr>\n",
       "      <th>6889</th>\n",
       "      <td>Spain</td>\n",
       "      <td>ESP</td>\n",
       "      <td>2021W07</td>\n",
       "      <td>3090351.0</td>\n",
       "      <td>1893290.0</td>\n",
       "      <td>1197061.0</td>\n",
       "      <td>1350</td>\n",
       "      <td>46736811.0</td>\n",
       "      <td>4.050961</td>\n",
       "      <td>11110</td>\n",
       "    </tr>\n",
       "  </tbody>\n",
       "</table>\n",
       "</div>"
      ],
      "text/plain": [
       "     country iso_code     date  total_vaccinations  people_vaccinated  \\\n",
       "6885   Spain      ESP  2021W03           1237593.0          1148895.0   \n",
       "6886   Spain      ESP  2021W04           1609261.0          1251369.0   \n",
       "6887   Spain      ESP  2021W05           2105033.0          1318626.0   \n",
       "6888   Spain      ESP  2021W06           2561608.0          1491517.0   \n",
       "6889   Spain      ESP  2021W07           3090351.0          1893290.0   \n",
       "\n",
       "      people_fully_vaccinated  New_deaths  population     ratio  Death_Cum  \n",
       "6885                  88698.0        2668  46736811.0  2.458223       2668  \n",
       "6886                 357892.0        2606  46736811.0  2.677480       5274  \n",
       "6887                 786407.0        2525  46736811.0  2.821386       7799  \n",
       "6888                1070091.0        1961  46736811.0  3.191311       9760  \n",
       "6889                1197061.0        1350  46736811.0  4.050961      11110  "
      ]
     },
     "execution_count": 17,
     "metadata": {},
     "output_type": "execute_result"
    }
   ],
   "source": [
    "# Vamos a coger un sample con un sólo país y analizarlo. El país elegido va a ser España\n",
    "\n",
    "Sample_df = df[df ['country'] == 'Spain']\n",
    "print(Sample_df.shape)\n",
    "Sample_df.head()"
   ]
  },
  {
   "cell_type": "code",
   "execution_count": 42,
   "id": "fae3a867-26ac-4423-aca3-0ed320dc2cdb",
   "metadata": {},
   "outputs": [
    {
     "data": {
      "image/png": "[encoded data removed]",
      "text/plain": [
       "<Figure size 1500x600 with 2 Axes>"
      ]
     },
     "metadata": {},
     "output_type": "display_data"
    }
   ],
   "source": [
    "# Vamos a comparar las nuevas muertes con el número de vacunados parcial y totalmente, para España\n",
    " \n",
    "fig, ax = plt.subplots(nrows = 1, ncols = 2, figsize = (15,6))\n",
    "Sample_df.plot(x = 'date', y = 'New_deaths', ax = ax[0])\n",
    "Sample_df.plot(x = 'date', y = 'people_vaccinated', ax = ax[1])\n",
    "Sample_df.plot(x = 'date', y = 'people_fully_vaccinated', ax = ax[1])\n",
    "#plt.title('New deaths evolution', loc='left')\n",
    "#plt.title('New vaccinated evolution', loc='right')\n",
    "plt.show()"
   ]
  },
  {
   "cell_type": "code",
   "execution_count": 47,
   "id": "6d213257-9fc6-477c-a653-ca1da5ab2fbb",
   "metadata": {},
   "outputs": [
    {
     "data": {
      "image/png": "[encoded data removed]",
      "text/plain": [
       "<Figure size 500x500 with 1 Axes>"
      ]
     },
     "metadata": {},
     "output_type": "display_data"
    }
   ],
   "source": [
    "sns.displot(data = Sample_df, x = 'New_deaths')\n",
    "plt.show()"
   ]
  },
  {
   "cell_type": "code",
   "execution_count": 54,
   "id": "edec355f-9497-4245-8404-dcb4fce60b72",
   "metadata": {},
   "outputs": [
    {
     "name": "stderr",
     "output_type": "stream",
     "text": [
      "Fitting 9 distributions: 100%|██████████| 9/9 [00:01<00:00,  8.61it/s]\n"
     ]
    },
    {
     "name": "stdout",
     "output_type": "stream",
     "text": [
      "{'beta': {'a': 0.6534151488622637, 'b': 119.25906663620799, 'loc': 43.99999999999999, 'scale': 71073.97063147984}}\n"
     ]
    },
    {
     "data": {
      "image/png": "[encoded data removed]",
      "text/plain": [
       "<Figure size 640x480 with 1 Axes>"
      ]
     },
     "metadata": {},
     "output_type": "display_data"
    }
   ],
   "source": [
    "distribuciones = ['cauchy', 'chi2', 'expon',  'exponpow', 'gamma',\n",
    "                  'norm', 'powerlaw', 'beta', 'logistic']\n",
    "\n",
    "fitter = Fitter(Sample_df.New_deaths, distributions = distribuciones)\n",
    "fitter.fit()\n",
    "fitter.summary(Nbest = 5, plot = True,)\n",
    "print(fitter.get_best())"
   ]
  },
  {
   "cell_type": "code",
   "execution_count": null,
   "id": "eaea9eee-5386-40e7-bcc3-19cd5f4d35b6",
   "metadata": {},
   "outputs": [],
   "source": []
  }
 ],
 "metadata": {
  "kernelspec": {
   "display_name": "default:Python",
   "language": "python",
   "name": "conda-env-default-py"
  },
  "language_info": {
   "codemirror_mode": {
    "name": "ipython",
    "version": 3
   },
   "file_extension": ".py",
   "mimetype": "text/x-python",
   "name": "python",
   "nbconvert_exporter": "python",
   "pygments_lexer": "ipython3",
   "version": "3.9.13"
  }
 },
 "nbformat": 4,
 "nbformat_minor": 5
}
